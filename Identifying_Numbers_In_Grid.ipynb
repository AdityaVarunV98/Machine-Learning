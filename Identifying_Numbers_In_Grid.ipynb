{
  "nbformat": 4,
  "nbformat_minor": 0,
  "metadata": {
    "colab": {
      "provenance": []
    },
    "kernelspec": {
      "name": "python3",
      "display_name": "Python 3"
    },
    "language_info": {
      "name": "python"
    }
  },
  "cells": [
    {
      "cell_type": "code",
      "source": [
        "# Code prints the answer, and doesn't use the template code\n",
        "\n",
        "\n",
        "import numpy as np\n",
        "from keras.datasets import mnist\n",
        "from keras.utils import to_categorical\n",
        "from keras.models import Sequential\n",
        "from keras.layers import Conv2D, MaxPooling2D, Flatten, Dense, Dropout\n",
        "from keras.preprocessing.image import ImageDataGenerator\n",
        "from keras.optimizers import Adam\n",
        "\n",
        "# Load and preprocess the MNIST dataset\n",
        "(x_train, y_train), (x_test, y_test) = mnist.load_data()\n",
        "x_train = np.expand_dims(x_train, axis=-1).astype('float32') / 255.0\n",
        "x_test = np.expand_dims(x_test, axis=-1).astype('float32') / 255.0\n",
        "y_train = to_categorical(y_train, 10)\n",
        "y_test = to_categorical(y_test, 10)\n",
        "\n",
        "# Define CNN model\n",
        "model = Sequential()\n",
        "model.add(Conv2D(32, kernel_size=(3, 3), activation='relu', input_shape=(28, 28, 1)))\n",
        "model.add(MaxPooling2D(pool_size=(2, 2)))\n",
        "model.add(Conv2D(64, kernel_size=(3, 3), activation='relu'))\n",
        "model.add(MaxPooling2D(pool_size=(2, 2)))\n",
        "model.add(Dropout(0.25))\n",
        "model.add(Flatten())\n",
        "model.add(Dense(128, activation='relu'))\n",
        "model.add(Dropout(0.5))\n",
        "model.add(Dense(10, activation='softmax'))\n",
        "\n",
        "# Compile the model\n",
        "model.compile(optimizer=Adam(lr=0.001), loss='categorical_crossentropy', metrics=['accuracy'])\n",
        "\n",
        "# Data augmentation\n",
        "datagen = ImageDataGenerator(rotation_range=10, zoom_range=0.1, width_shift_range=0.1, height_shift_range=0.1)\n",
        "datagen.fit(x_train)\n",
        "\n",
        "\n",
        "# Train the model\n",
        "model.fit_generator(datagen.flow(x_train, y_train, batch_size=128),\n",
        "                    steps_per_epoch=len(x_train) / 128, epochs=15, validation_data=(x_test, y_test))\n",
        "\n",
        "# Evaluate the model on the test data\n",
        "loss, accuracy = model.evaluate(x_test, y_test)\n",
        "print(\"Test Accuracy:\", accuracy)"
      ],
      "metadata": {
        "colab": {
          "base_uri": "https://localhost:8080/"
        },
        "id": "DA96zfaSwRAc",
        "outputId": "438296e6-d036-42bc-d5f0-867d2dd99ccc"
      },
      "execution_count": null,
      "outputs": [
        {
          "output_type": "stream",
          "name": "stderr",
          "text": [
            "WARNING:absl:`lr` is deprecated in Keras optimizer, please use `learning_rate` or use the legacy optimizer, e.g.,tf.keras.optimizers.legacy.Adam.\n",
            "<ipython-input-50-a2004c398287>:40: UserWarning: `Model.fit_generator` is deprecated and will be removed in a future version. Please use `Model.fit`, which supports generators.\n",
            "  model.fit_generator(datagen.flow(x_train, y_train, batch_size=128),\n"
          ]
        },
        {
          "output_type": "stream",
          "name": "stdout",
          "text": [
            "Epoch 1/15\n",
            "468/468 [==============================] - 71s 149ms/step - loss: 0.6034 - accuracy: 0.8059 - val_loss: 0.0687 - val_accuracy: 0.9773\n",
            "Epoch 2/15\n",
            "468/468 [==============================] - 63s 135ms/step - loss: 0.2357 - accuracy: 0.9273 - val_loss: 0.0398 - val_accuracy: 0.9868\n",
            "Epoch 3/15\n",
            "468/468 [==============================] - 60s 129ms/step - loss: 0.1763 - accuracy: 0.9470 - val_loss: 0.0395 - val_accuracy: 0.9865\n",
            "Epoch 4/15\n",
            "468/468 [==============================] - 62s 131ms/step - loss: 0.1446 - accuracy: 0.9564 - val_loss: 0.0332 - val_accuracy: 0.9894\n",
            "Epoch 5/15\n",
            "468/468 [==============================] - 61s 130ms/step - loss: 0.1322 - accuracy: 0.9607 - val_loss: 0.0250 - val_accuracy: 0.9911\n",
            "Epoch 6/15\n",
            "468/468 [==============================] - 62s 132ms/step - loss: 0.1175 - accuracy: 0.9653 - val_loss: 0.0218 - val_accuracy: 0.9931\n",
            "Epoch 7/15\n",
            "468/468 [==============================] - 60s 128ms/step - loss: 0.1077 - accuracy: 0.9680 - val_loss: 0.0222 - val_accuracy: 0.9927\n",
            "Epoch 8/15\n",
            "468/468 [==============================] - 69s 148ms/step - loss: 0.1014 - accuracy: 0.9704 - val_loss: 0.0212 - val_accuracy: 0.9924\n",
            "Epoch 9/15\n",
            "468/468 [==============================] - 64s 137ms/step - loss: 0.0957 - accuracy: 0.9723 - val_loss: 0.0174 - val_accuracy: 0.9945\n",
            "Epoch 10/15\n",
            "468/468 [==============================] - 61s 130ms/step - loss: 0.0887 - accuracy: 0.9740 - val_loss: 0.0198 - val_accuracy: 0.9929\n",
            "Epoch 11/15\n",
            "468/468 [==============================] - 64s 137ms/step - loss: 0.0844 - accuracy: 0.9753 - val_loss: 0.0176 - val_accuracy: 0.9936\n",
            "Epoch 12/15\n",
            "468/468 [==============================] - 71s 152ms/step - loss: 0.0792 - accuracy: 0.9764 - val_loss: 0.0170 - val_accuracy: 0.9940\n",
            "Epoch 13/15\n",
            "468/468 [==============================] - 92s 196ms/step - loss: 0.0774 - accuracy: 0.9777 - val_loss: 0.0196 - val_accuracy: 0.9940\n",
            "Epoch 14/15\n",
            "468/468 [==============================] - 66s 141ms/step - loss: 0.0759 - accuracy: 0.9772 - val_loss: 0.0193 - val_accuracy: 0.9940\n",
            "Epoch 15/15\n",
            "468/468 [==============================] - 75s 160ms/step - loss: 0.0731 - accuracy: 0.9781 - val_loss: 0.0197 - val_accuracy: 0.9932\n",
            "313/313 [==============================] - 3s 8ms/step - loss: 0.0197 - accuracy: 0.9932\n",
            "Test Accuracy: 0.9932000041007996\n"
          ]
        }
      ]
    },
    {
      "cell_type": "code",
      "source": [
        "import cv2\n",
        "import numpy as np\n",
        "import matplotlib.pyplot as plt\n",
        "import imageio.v3 as iio\n",
        "\n",
        "# Load the grid image\n",
        "image_path = '5.png'\n",
        "grid_image = iio.imread(image_path)\n",
        "grid_image = grid_image[1:, 1:]\n",
        "\n",
        "plt.figure(figsize=(3, 3))\n",
        "plt.imshow(grid_image, cmap='gray')\n",
        "plt.axis('off')\n",
        "plt.show()\n",
        "\n",
        "print(grid_image.shape)\n",
        "\n",
        "def rgb2gray(rgb):\n",
        "    return np.dot(rgb[...,:3], [0.2989, 0.5870, 0.1140])\n",
        "\n",
        "# Check if the image is loaded successfully\n",
        "if grid_image is not None:\n",
        "    # Define box dimensions\n",
        "    box_size = 49  # Size of each box in pixels\n",
        "    line_width = 2  # Width of the separating lines in pixels\n",
        "\n",
        "    # Calculate the number of rows and columns of boxes\n",
        "    num_rows = int(grid_image.shape[0] // (box_size + line_width))\n",
        "    num_cols = grid_image.shape[1] // (box_size + line_width)\n",
        "\n",
        "    # Extract individual boxes from the grid image\n",
        "    box_pixels = []\n",
        "    for i in range(num_rows):\n",
        "        for j in range(num_cols):\n",
        "            box_start_x = j * (box_size + line_width)\n",
        "            box_start_y = i * (box_size + line_width)\n",
        "            box = grid_image[box_start_y + 10:(box_start_y + box_size) - 11, box_start_x + 10:(box_start_x + box_size) - 11]\n",
        "            gray = rgb2gray(box)\n",
        "            gray = np.reshape(gray, (28, 28, 1))\n",
        "\n",
        "            print(gray.shape)\n",
        "            # Resize box to a square of side 49 pixels\n",
        "\n",
        "            box_pixels.append(gray)\n",
        "\n",
        "\n",
        "    # Display each box one after the other\n",
        "    for i, box in enumerate(box_pixels):\n",
        "\n",
        "      plt.figure(figsize=(3, 3))\n",
        "      plt.imshow(box_pixels[i], cmap='gray')\n",
        "      plt.axis('off')\n",
        "      plt.show()\n",
        "else:\n",
        "    print(f\"Failed to load image from path: {image_path}\")"
      ],
      "metadata": {
        "colab": {
          "base_uri": "https://localhost:8080/",
          "height": 1000
        },
        "id": "vzo5Q3qvMk5U",
        "outputId": "87988042-062e-47c5-8e85-70f6e35e2c43"
      },
      "execution_count": null,
      "outputs": [
        {
          "output_type": "display_data",
          "data": {
            "text/plain": [
              "<Figure size 300x300 with 1 Axes>"
            ],
            "image/png": "[encoded data removed]"
          },
          "metadata": {}
        },
        {
          "output_type": "stream",
          "name": "stdout",
          "text": [
            "(204, 510, 3)\n",
            "(28, 28, 1)\n",
            "(28, 28, 1)\n",
            "(28, 28, 1)\n",
            "(28, 28, 1)\n",
            "(28, 28, 1)\n",
            "(28, 28, 1)\n",
            "(28, 28, 1)\n",
            "(28, 28, 1)\n",
            "(28, 28, 1)\n",
            "(28, 28, 1)\n",
            "(28, 28, 1)\n",
            "(28, 28, 1)\n",
            "(28, 28, 1)\n",
            "(28, 28, 1)\n",
            "(28, 28, 1)\n",
            "(28, 28, 1)\n",
            "(28, 28, 1)\n",
            "(28, 28, 1)\n",
            "(28, 28, 1)\n",
            "(28, 28, 1)\n",
            "(28, 28, 1)\n",
            "(28, 28, 1)\n",
            "(28, 28, 1)\n",
            "(28, 28, 1)\n",
            "(28, 28, 1)\n",
            "(28, 28, 1)\n",
            "(28, 28, 1)\n",
            "(28, 28, 1)\n",
            "(28, 28, 1)\n",
            "(28, 28, 1)\n",
            "(28, 28, 1)\n",
            "(28, 28, 1)\n",
            "(28, 28, 1)\n",
            "(28, 28, 1)\n",
            "(28, 28, 1)\n",
            "(28, 28, 1)\n",
            "(28, 28, 1)\n",
            "(28, 28, 1)\n",
            "(28, 28, 1)\n",
            "(28, 28, 1)\n"
          ]
        },
        {
          "output_type": "display_data",
          "data": {
            "text/plain": [
              "<Figure size 300x300 with 1 Axes>"
            ],
            "image/png": "[encoded data removed]"
          },
          "metadata": {}
        },
        {
          "output_type": "display_data",
          "data": {
            "text/plain": [
              "<Figure size 300x300 with 1 Axes>"
            ],
            "image/png": "[encoded data removed]"
          },
          "metadata": {}
        },
        {
          "output_type": "display_data",
          "data": {
            "text/plain": [
              "<Figure size 300x300 with 1 Axes>"
            ],
            "image/png": "[encoded data removed]"
          },
          "metadata": {}
        },
        {
          "output_type": "display_data",
          "data": {
            "text/plain": [
              "<Figure size 300x300 with 1 Axes>"
            ],
            "image/png": "[encoded data removed]"
          },
          "metadata": {}
        },
        {
          "output_type": "display_data",
          "data": {
            "text/plain": [
              "<Figure size 300x300 with 1 Axes>"
            ],
            "image/png": "[encoded data removed]"
          },
          "metadata": {}
        },
        {
          "output_type": "display_data",
          "data": {
            "text/plain": [
              "<Figure size 300x300 with 1 Axes>"
            ],
            "image/png": "[encoded data removed]"
          },
          "metadata": {}
        },
        {
          "output_type": "display_data",
          "data": {
            "text/plain": [
              "<Figure size 300x300 with 1 Axes>"
            ],
            "image/png": "[encoded data removed]"
          },
          "metadata": {}
        },
        {
          "output_type": "display_data",
          "data": {
            "text/plain": [
              "<Figure size 300x300 with 1 Axes>"
            ],
            "image/png": "[encoded data removed]"
          },
          "metadata": {}
        },
        {
          "output_type": "display_data",
          "data": {
            "text/plain": [
              "<Figure size 300x300 with 1 Axes>"
            ],
            "image/png": "[encoded data removed]"
          },
          "metadata": {}
        },
        {
          "output_type": "display_data",
          "data": {
            "text/plain": [
              "<Figure size 300x300 with 1 Axes>"
            ],
            "image/png": "[encoded data removed]"
          },
          "metadata": {}
        },
        {
          "output_type": "display_data",
          "data": {
            "text/plain": [
              "<Figure size 300x300 with 1 Axes>"
            ],
            "image/png": "[encoded data removed]"
          },
          "metadata": {}
        },
        {
          "output_type": "display_data",
          "data": {
            "text/plain": [
              "<Figure size 300x300 with 1 Axes>"
            ],
            "image/png": "[encoded data removed]"
          },
          "metadata": {}
        },
        {
          "output_type": "display_data",
          "data": {
            "text/plain": [
              "<Figure size 300x300 with 1 Axes>"
            ],
            "image/png": "[encoded data removed]"
          },
          "metadata": {}
        },
        {
          "output_type": "display_data",
          "data": {
            "text/plain": [
              "<Figure size 300x300 with 1 Axes>"
            ],
            "image/png": "[encoded data removed]"
          },
          "metadata": {}
        },
        {
          "output_type": "display_data",
          "data": {
            "text/plain": [
              "<Figure size 300x300 with 1 Axes>"
            ],
            "image/png": "[encoded data removed]"
          },
          "metadata": {}
        },
        {
          "output_type": "display_data",
          "data": {
            "text/plain": [
              "<Figure size 300x300 with 1 Axes>"
            ],
            "image/png": "[encoded data removed]"
          },
          "metadata": {}
        },
        {
          "output_type": "display_data",
          "data": {
            "text/plain": [
              "<Figure size 300x300 with 1 Axes>"
            ],
            "image/png": "[encoded data removed]"
          },
          "metadata": {}
        },
        {
          "output_type": "display_data",
          "data": {
            "text/plain": [
              "<Figure size 300x300 with 1 Axes>"
            ],
            "image/png": "[encoded data removed]"
          },
          "metadata": {}
        },
        {
          "output_type": "display_data",
          "data": {
            "text/plain": [
              "<Figure size 300x300 with 1 Axes>"
            ],
            "image/png": "[encoded data removed]"
          },
          "metadata": {}
        },
        {
          "output_type": "display_data",
          "data": {
            "text/plain": [
              "<Figure size 300x300 with 1 Axes>"
            ],
            "image/png": "[encoded data removed]"
          },
          "metadata": {}
        },
        {
          "output_type": "display_data",
          "data": {
            "text/plain": [
              "<Figure size 300x300 with 1 Axes>"
            ],
            "image/png": "[encoded data removed]"
          },
          "metadata": {}
        },
        {
          "output_type": "display_data",
          "data": {
            "text/plain": [
              "<Figure size 300x300 with 1 Axes>"
            ],
            "image/png": "[encoded data removed]"
          },
          "metadata": {}
        },
        {
          "output_type": "display_data",
          "data": {
            "text/plain": [
              "<Figure size 300x300 with 1 Axes>"
            ],
            "image/png": "[encoded data removed]"
          },
          "metadata": {}
        },
        {
          "output_type": "display_data",
          "data": {
            "text/plain": [
              "<Figure size 300x300 with 1 Axes>"
            ],
            "image/png": "[encoded data removed]"
          },
          "metadata": {}
        },
        {
          "output_type": "display_data",
          "data": {
            "text/plain": [
              "<Figure size 300x300 with 1 Axes>"
            ],
            "image/png": "[encoded data removed]"
          },
          "metadata": {}
        },
        {
          "output_type": "display_data",
          "data": {
            "text/plain": [
              "<Figure size 300x300 with 1 Axes>"
            ],
            "image/png": "[encoded data removed]"
          },
          "metadata": {}
        },
        {
          "output_type": "display_data",
          "data": {
            "text/plain": [
              "<Figure size 300x300 with 1 Axes>"
            ],
            "image/png": "[encoded data removed]"
          },
          "metadata": {}
        },
        {
          "output_type": "display_data",
          "data": {
            "text/plain": [
              "<Figure size 300x300 with 1 Axes>"
            ],
            "image/png": "[encoded data removed]"
          },
          "metadata": {}
        },
        {
          "output_type": "display_data",
          "data": {
            "text/plain": [
              "<Figure size 300x300 with 1 Axes>"
            ],
            "image/png": "[encoded data removed]"
          },
          "metadata": {}
        },
        {
          "output_type": "display_data",
          "data": {
            "text/plain": [
              "<Figure size 300x300 with 1 Axes>"
            ],
            "image/png": "[encoded data removed]"
          },
          "metadata": {}
        },
        {
          "output_type": "display_data",
          "data": {
            "text/plain": [
              "<Figure size 300x300 with 1 Axes>"
            ],
            "image/png": "[encoded data removed]"
          },
          "metadata": {}
        },
        {
          "output_type": "display_data",
          "data": {
            "text/plain": [
              "<Figure size 300x300 with 1 Axes>"
            ],
            "image/png": "[encoded data removed]"
          },
          "metadata": {}
        },
        {
          "output_type": "display_data",
          "data": {
            "text/plain": [
              "<Figure size 300x300 with 1 Axes>"
            ],
            "image/png": "[encoded data removed]"
          },
          "metadata": {}
        },
        {
          "output_type": "display_data",
          "data": {
            "text/plain": [
              "<Figure size 300x300 with 1 Axes>"
            ],
            "image/png": "[encoded data removed]"
          },
          "metadata": {}
        },
        {
          "output_type": "display_data",
          "data": {
            "text/plain": [
              "<Figure size 300x300 with 1 Axes>"
            ],
            "image/png": "[encoded data removed]"
          },
          "metadata": {}
        },
        {
          "output_type": "display_data",
          "data": {
            "text/plain": [
              "<Figure size 300x300 with 1 Axes>"
            ],
            "image/png": "[encoded data removed]"
          },
          "metadata": {}
        },
        {
          "output_type": "display_data",
          "data": {
            "text/plain": [
              "<Figure size 300x300 with 1 Axes>"
            ],
            "image/png": "[encoded data removed]"
          },
          "metadata": {}
        },
        {
          "output_type": "display_data",
          "data": {
            "text/plain": [
              "<Figure size 300x300 with 1 Axes>"
            ],
            "image/png": "[encoded data removed]"
          },
          "metadata": {}
        },
        {
          "output_type": "display_data",
          "data": {
            "text/plain": [
              "<Figure size 300x300 with 1 Axes>"
            ],
            "image/png": "[encoded data removed]"
          },
          "metadata": {}
        },
        {
          "output_type": "display_data",
          "data": {
            "text/plain": [
              "<Figure size 300x300 with 1 Axes>"
            ],
            "image/png": "[encoded data removed]"
          },
          "metadata": {}
        }
      ]
    },
    {
      "cell_type": "code",
      "source": [
        "from PIL import Image\n",
        "\n",
        "def predict(normalized_image):\n",
        "    # Check the shape of the preprocessed image\n",
        "\n",
        "    # Reshape the image to match the model's input shape\n",
        "    normalized_image = normalized_image.reshape(1, 28, 28, 1)\n",
        "    normalized_image = np.rint(normalized_image)\n",
        "    normalized_image = 255 - normalized_image\n",
        "    normalized_image = normalized_image/255\n",
        "\n",
        "    # Make predictions\n",
        "    prediction_probabilities = model.predict(normalized_image)\n",
        "    predicted_digit = np.argmax(prediction_probabilities)\n",
        "\n",
        "\n",
        "\n",
        "    # Get the probability of the predicted digit\n",
        "    predicted_probability = np.max(prediction_probabilities)\n",
        "\n",
        "    return predicted_digit\n",
        "\n",
        "def not_black(im):\n",
        "    eps = 2\n",
        "\n",
        "    black_row = []\n",
        "    for i in range(im.shape[0]):\n",
        "        flag=0\n",
        "        for j in range(im.shape[1]):\n",
        "            if im[i, j] == 255:\n",
        "                flag += 1\n",
        "        if im.shape[1] - flag < eps:\n",
        "            black_row.append(i)\n",
        "    if len(black_row) > im.shape[0] - eps:\n",
        "        return 0\n",
        "    return 1\n",
        "\n",
        "\n",
        "ans = []\n",
        "for i, box in enumerate(box_pixels):\n",
        "    box = np.rint(box)\n",
        "    if(not_black(box)):\n",
        "        prediction = predict(box)\n",
        "        ans.append((i+1, prediction))\n",
        "\n",
        "print(ans)"
      ],
      "metadata": {
        "colab": {
          "base_uri": "https://localhost:8080/"
        },
        "id": "cujQJO8JhtAd",
        "outputId": "32234319-a01c-417d-b707-bed6f0ef28c2"
      },
      "execution_count": null,
      "outputs": [
        {
          "output_type": "stream",
          "name": "stdout",
          "text": [
            "1/1 [==============================] - 0s 27ms/step\n",
            "1/1 [==============================] - 0s 26ms/step\n",
            "1/1 [==============================] - 0s 33ms/step\n",
            "[(4, 3), (16, 7), (30, 6)]\n"
          ]
        }
      ]
    },
    {
      "cell_type": "code",
      "source": [
        "def taskOne(input_image):\n",
        "    \"\"\"\n",
        "    input:  path to the input image\n",
        "    output: return list of tuples\n",
        "\n",
        "    \"\"\"\n",
        "    #START CODE\n",
        "    # print(input_image)\n",
        "    grid_image = iio.imread(input_image)\n",
        "    grid_image = grid_image[1:, 1:]\n",
        "\n",
        "    plt.figure(figsize=(3, 3))\n",
        "    plt.imshow(grid_image, cmap='gray')\n",
        "    plt.axis('off')\n",
        "    plt.show()\n",
        "\n",
        "\n",
        "    def rgb2gray(rgb):\n",
        "        return np.dot(rgb[...,:3], [0.2989, 0.5870, 0.1140])\n",
        "\n",
        "    # Check if the image is loaded successfully\n",
        "    if grid_image is not None:\n",
        "        # Define box dimensions\n",
        "        box_size = 49  # Size of each box in pixels\n",
        "        line_width = 2  # Width of the separating lines in pixels\n",
        "\n",
        "        # Calculate the number of rows and columns of boxes\n",
        "        num_rows = int(grid_image.shape[0] // (box_size + line_width))\n",
        "        num_cols = grid_image.shape[1] // (box_size + line_width)\n",
        "\n",
        "        # Extract individual boxes from the grid image\n",
        "        box_pixels = []\n",
        "        for i in range(num_rows):\n",
        "            for j in range(num_cols):\n",
        "                box_start_x = j * (box_size + line_width)\n",
        "                box_start_y = i * (box_size + line_width)\n",
        "                box = grid_image[box_start_y + 10:(box_start_y + box_size) - 11, box_start_x + 10:(box_start_x + box_size) - 11]\n",
        "                gray = rgb2gray(box)\n",
        "                gray = np.reshape(gray, (28, 28, 1))\n",
        "\n",
        "                # Resize box to a square of side 49 pixels\n",
        "\n",
        "                box_pixels.append(gray)\n",
        "\n",
        "\n",
        "    # Display each box one after the other\n",
        "    # for i, box in enumerate(box_pixels):\n",
        "\n",
        "    #   plt.figure(figsize=(3, 3))\n",
        "    #   plt.imshow(box_pixels[i], cmap='gray')\n",
        "    #   plt.axis('off')\n",
        "    #   plt.show()\n",
        "    # else:\n",
        "    #   print(f\"Failed to load image from path: {input_image}\")\n",
        "\n",
        "    ans = []\n",
        "    for i, box in enumerate(box_pixels):\n",
        "        box = np.rint(box)\n",
        "        if(not_black(box)):\n",
        "            prediction = predict(box)\n",
        "            ans.append((i+1, prediction))\n",
        "\n",
        "    return ans\n",
        "\n",
        "  #END CODE HERE"
      ],
      "metadata": {
        "id": "FTCtD--9m3JI"
      },
      "execution_count": null,
      "outputs": []
    },
    {
      "cell_type": "code",
      "source": [
        "for i in range(1, 11):\n",
        "  print(\"Output for Test\" + str(i) + \":\")\n",
        "  print(taskOne(str(i)+'.png'))"
      ],
      "metadata": {
        "colab": {
          "base_uri": "https://localhost:8080/",
          "height": 1000
        },
        "id": "7EZ9MMhzuI6U",
        "outputId": "c8355206-97d6-4ae7-b069-da6d67a696ea"
      },
      "execution_count": null,
      "outputs": [
        {
          "output_type": "stream",
          "name": "stdout",
          "text": [
            "Output for Test1:\n"
          ]
        },
        {
          "output_type": "display_data",
          "data": {
            "text/plain": [
              "<Figure size 300x300 with 1 Axes>"
            ],
            "image/png": "[encoded data removed]"
          },
          "metadata": {}
        },
        {
          "output_type": "stream",
          "name": "stdout",
          "text": [
            "1/1 [==============================] - 0s 44ms/step\n",
            "[(26, 9)]\n",
            "Output for Test2:\n"
          ]
        },
        {
          "output_type": "display_data",
          "data": {
            "text/plain": [
              "<Figure size 300x300 with 1 Axes>"
            ],
            "image/png": "[encoded data removed]"
          },
          "metadata": {}
        },
        {
          "output_type": "stream",
          "name": "stdout",
          "text": [
            "1/1 [==============================] - 0s 39ms/step\n",
            "[(24, 2)]\n",
            "Output for Test3:\n"
          ]
        },
        {
          "output_type": "display_data",
          "data": {
            "text/plain": [
              "<Figure size 300x300 with 1 Axes>"
            ],
            "image/png": "[encoded data removed]"
          },
          "metadata": {}
        },
        {
          "output_type": "stream",
          "name": "stdout",
          "text": [
            "1/1 [==============================] - 0s 40ms/step\n",
            "1/1 [==============================] - 0s 36ms/step\n",
            "[(1, 9), (3, 1)]\n",
            "Output for Test4:\n"
          ]
        },
        {
          "output_type": "display_data",
          "data": {
            "text/plain": [
              "<Figure size 300x300 with 1 Axes>"
            ],
            "image/png": "[encoded data removed]"
          },
          "metadata": {}
        },
        {
          "output_type": "stream",
          "name": "stdout",
          "text": [
            "1/1 [==============================] - 0s 49ms/step\n",
            "[(70, 4)]\n",
            "Output for Test5:\n"
          ]
        },
        {
          "output_type": "display_data",
          "data": {
            "text/plain": [
              "<Figure size 300x300 with 1 Axes>"
            ],
            "image/png": "[encoded data removed]"
          },
          "metadata": {}
        },
        {
          "output_type": "stream",
          "name": "stdout",
          "text": [
            "1/1 [==============================] - 0s 26ms/step\n",
            "1/1 [==============================] - 0s 22ms/step\n",
            "1/1 [==============================] - 0s 22ms/step\n",
            "[(4, 8), (16, 7), (30, 4)]\n",
            "Output for Test6:\n"
          ]
        },
        {
          "output_type": "display_data",
          "data": {
            "text/plain": [
              "<Figure size 300x300 with 1 Axes>"
            ],
            "image/png": "[encoded data removed]"
          },
          "metadata": {}
        },
        {
          "output_type": "stream",
          "name": "stdout",
          "text": [
            "1/1 [==============================] - 0s 23ms/step\n",
            "1/1 [==============================] - 0s 25ms/step\n",
            "1/1 [==============================] - 0s 22ms/step\n",
            "[(10, 9), (13, 4), (21, 1)]\n",
            "Output for Test7:\n"
          ]
        },
        {
          "output_type": "display_data",
          "data": {
            "text/plain": [
              "<Figure size 300x300 with 1 Axes>"
            ],
            "image/png": "[encoded data removed]"
          },
          "metadata": {}
        },
        {
          "output_type": "stream",
          "name": "stdout",
          "text": [
            "1/1 [==============================] - 0s 35ms/step\n",
            "1/1 [==============================] - 0s 21ms/step\n",
            "[(2, 8), (6, 3)]\n",
            "Output for Test8:\n"
          ]
        },
        {
          "output_type": "display_data",
          "data": {
            "text/plain": [
              "<Figure size 300x300 with 1 Axes>"
            ],
            "image/png": "[encoded data removed]"
          },
          "metadata": {}
        },
        {
          "output_type": "stream",
          "name": "stdout",
          "text": [
            "1/1 [==============================] - 0s 23ms/step\n",
            "1/1 [==============================] - 0s 24ms/step\n",
            "[(40, 7), (42, 7)]\n",
            "Output for Test9:\n"
          ]
        },
        {
          "output_type": "display_data",
          "data": {
            "text/plain": [
              "<Figure size 300x300 with 1 Axes>"
            ],
            "image/png": "[encoded data removed]"
          },
          "metadata": {}
        },
        {
          "output_type": "stream",
          "name": "stdout",
          "text": [
            "1/1 [==============================] - 0s 24ms/step\n",
            "[(11, 3)]\n",
            "Output for Test10:\n"
          ]
        },
        {
          "output_type": "display_data",
          "data": {
            "text/plain": [
              "<Figure size 300x300 with 1 Axes>"
            ],
            "image/png": "[encoded data removed]"
          },
          "metadata": {}
        },
        {
          "output_type": "stream",
          "name": "stdout",
          "text": [
            "1/1 [==============================] - 0s 30ms/step\n",
            "1/1 [==============================] - 0s 24ms/step\n",
            "[(3, 3), (14, 7)]\n"
          ]
        }
      ]
    }
  ]
}